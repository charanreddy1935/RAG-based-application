{
 "cells": [
  {
   "cell_type": "code",
   "execution_count": 1,
   "id": "f442efe6",
   "metadata": {},
   "outputs": [
    {
     "name": "stderr",
     "output_type": "stream",
     "text": [
      "c:\\Users\\chara\\AppData\\Local\\Programs\\Python\\Python312\\Lib\\site-packages\\tqdm\\auto.py:21: TqdmWarning: IProgress not found. Please update jupyter and ipywidgets. See https://ipywidgets.readthedocs.io/en/stable/user_install.html\n",
      "  from .autonotebook import tqdm as notebook_tqdm\n"
     ]
    }
   ],
   "source": [
    "import os\n",
    "from langchain_community.embeddings import HuggingFaceEmbeddings\n",
    "from langchain_chroma import Chroma\n",
    "from langchain_core.tools import create_retriever_tool\n",
    "from langchain_google_genai import ChatGoogleGenerativeAI\n",
    "from langchain_core.prompts import ChatPromptTemplate\n",
    "from langchain_core.messages import HumanMessage, AIMessage\n",
    "from langchain_core.callbacks import CallbackManager\n"
   ]
  },
  {
   "cell_type": "code",
   "execution_count": 2,
   "id": "5e12a2d7",
   "metadata": {},
   "outputs": [
    {
     "name": "stderr",
     "output_type": "stream",
     "text": [
      "C:\\Users\\chara\\AppData\\Local\\Temp\\ipykernel_21260\\2313594095.py:1: LangChainDeprecationWarning: The class `HuggingFaceEmbeddings` was deprecated in LangChain 0.2.2 and will be removed in 1.0. An updated version of the class exists in the `langchain-huggingface package and should be used instead. To use it run `pip install -U `langchain-huggingface` and import as `from `langchain_huggingface import HuggingFaceEmbeddings``.\n",
      "  embedding_llm = HuggingFaceEmbeddings(model_name=\"sentence-transformers/all-MiniLM-L6-v2\")\n"
     ]
    }
   ],
   "source": [
    "embedding_llm = HuggingFaceEmbeddings(model_name=\"sentence-transformers/all-MiniLM-L6-v2\")"
   ]
  },
  {
   "cell_type": "code",
   "execution_count": 3,
   "id": "fcfe657f",
   "metadata": {},
   "outputs": [],
   "source": [
    "db = Chroma(persist_directory='./chroma', embedding_function=embedding_llm,\n",
    "             collection_name=\"hdfc_faqs\")"
   ]
  },
  {
   "cell_type": "code",
   "execution_count": 4,
   "id": "f2e6c56c",
   "metadata": {},
   "outputs": [
    {
     "name": "stdout",
     "output_type": "stream",
     "text": [
      "4\n"
     ]
    }
   ],
   "source": [
    "query = \"I forgot my password how to reset it\"\n",
    "result = db.similarity_search_with_relevance_scores(query)\n",
    "print(len(result))"
   ]
  },
  {
   "cell_type": "code",
   "execution_count": 5,
   "id": "5b2cdc55",
   "metadata": {},
   "outputs": [
    {
     "data": {
      "text/plain": [
       "[(Document(id='f7a33886-3dc6-4717-a2e0-08e5810f6ca1', metadata={'source': 'c:\\\\Users\\\\chara\\\\Downloads\\\\HDFC_ChatBot-main\\\\HDFC_ChatBot-main\\\\HDFC_Faq.txt'}, page_content='Q: How do I reset my password?\\nA: An immediate email will be sent to you after the card is issued to you for setting up your password. For resetting or changing the password you will have to login to www.timespoint.com and visit the settings tab. In case you forget the password of your account, you can try for Forget Password and a password reset mail will be sent to you.'),\n",
       "  0.5112829727845929),\n",
       " (Document(id='e47ff7d0-e20d-4382-afd4-8e092d4a0795', metadata={'source': 'c:\\\\Users\\\\chara\\\\Downloads\\\\HDFC_ChatBot-main\\\\HDFC_ChatBot-main\\\\HDFC_Faq.txt'}, page_content='Q: How can I log in if I have forgotten my password?\\nA: In case you have forgotten your password you can re-generate it using our Instant IPIN facility online.'),\n",
       "  0.47272172526391476),\n",
       " (Document(id='89e7c04b-e41d-457c-bd7f-f9d6c8832f85', metadata={'source': 'c:\\\\Users\\\\chara\\\\Downloads\\\\HDFC_ChatBot-main\\\\HDFC_ChatBot-main\\\\HDFC_Faq.txt'}, page_content='Q: What if I forget my password?\\nA: If you forget your password, you may reset your password (create a new password) after entering your Credit/debit card number, ATM PIN (or CVV2 and Date of birth for credit cards) and card expiry details.'),\n",
       "  0.4010712820052732),\n",
       " (Document(id='34b8a3e5-d51c-45a3-86a1-5023102e5cdb', metadata={'source': 'c:\\\\Users\\\\chara\\\\Downloads\\\\HDFC_ChatBot-main\\\\HDFC_ChatBot-main\\\\HDFC_Faq.txt'}, page_content='Q: How do I change my password?\\nA: After you have logged in, you can change your password using the \"Change password\" option in the top part of the screen. You have to type your current password and the new password you have chosen in their respective boxes.'),\n",
       "  0.3376092549158737)]"
      ]
     },
     "execution_count": 5,
     "metadata": {},
     "output_type": "execute_result"
    }
   ],
   "source": [
    "result"
   ]
  },
  {
   "cell_type": "code",
   "execution_count": 6,
   "id": "8cb5f1bc",
   "metadata": {},
   "outputs": [
    {
     "name": "stdout",
     "output_type": "stream",
     "text": [
      "2\n"
     ]
    }
   ],
   "source": [
    "result = db.similarity_search_with_relevance_scores(query, k=2)\n",
    "print(len(result))"
   ]
  },
  {
   "cell_type": "code",
   "execution_count": 7,
   "id": "5474ffa6",
   "metadata": {},
   "outputs": [
    {
     "data": {
      "text/plain": [
       "[(Document(id='f7a33886-3dc6-4717-a2e0-08e5810f6ca1', metadata={'source': 'c:\\\\Users\\\\chara\\\\Downloads\\\\HDFC_ChatBot-main\\\\HDFC_ChatBot-main\\\\HDFC_Faq.txt'}, page_content='Q: How do I reset my password?\\nA: An immediate email will be sent to you after the card is issued to you for setting up your password. For resetting or changing the password you will have to login to www.timespoint.com and visit the settings tab. In case you forget the password of your account, you can try for Forget Password and a password reset mail will be sent to you.'),\n",
       "  0.5112829727845929),\n",
       " (Document(id='e47ff7d0-e20d-4382-afd4-8e092d4a0795', metadata={'source': 'c:\\\\Users\\\\chara\\\\Downloads\\\\HDFC_ChatBot-main\\\\HDFC_ChatBot-main\\\\HDFC_Faq.txt'}, page_content='Q: How can I log in if I have forgotten my password?\\nA: In case you have forgotten your password you can re-generate it using our Instant IPIN facility online.'),\n",
       "  0.47272172526391476)]"
      ]
     },
     "execution_count": 7,
     "metadata": {},
     "output_type": "execute_result"
    }
   ],
   "source": [
    "result"
   ]
  },
  {
   "cell_type": "code",
   "execution_count": 8,
   "id": "5241eebf",
   "metadata": {},
   "outputs": [
    {
     "data": {
      "text/plain": [
       "[Document(id='f7a33886-3dc6-4717-a2e0-08e5810f6ca1', metadata={'source': 'c:\\\\Users\\\\chara\\\\Downloads\\\\HDFC_ChatBot-main\\\\HDFC_ChatBot-main\\\\HDFC_Faq.txt'}, page_content='Q: How do I reset my password?\\nA: An immediate email will be sent to you after the card is issued to you for setting up your password. For resetting or changing the password you will have to login to www.timespoint.com and visit the settings tab. In case you forget the password of your account, you can try for Forget Password and a password reset mail will be sent to you.'),\n",
       " Document(id='e47ff7d0-e20d-4382-afd4-8e092d4a0795', metadata={'source': 'c:\\\\Users\\\\chara\\\\Downloads\\\\HDFC_ChatBot-main\\\\HDFC_ChatBot-main\\\\HDFC_Faq.txt'}, page_content='Q: How can I log in if I have forgotten my password?\\nA: In case you have forgotten your password you can re-generate it using our Instant IPIN facility online.')]"
      ]
     },
     "execution_count": 8,
     "metadata": {},
     "output_type": "execute_result"
    }
   ],
   "source": [
    "db.max_marginal_relevance_search(query, k=2)"
   ]
  },
  {
   "cell_type": "code",
   "execution_count": 9,
   "id": "b041f5f3",
   "metadata": {},
   "outputs": [],
   "source": [
    "retriever = db.as_retriever(search_type='mmr', search_kwargs={'k': 2, 'fetch_k': 5})"
   ]
  },
  {
   "cell_type": "code",
   "execution_count": 10,
   "id": "9e07547a",
   "metadata": {},
   "outputs": [
    {
     "data": {
      "text/plain": [
       "[Document(id='f7a33886-3dc6-4717-a2e0-08e5810f6ca1', metadata={'source': 'c:\\\\Users\\\\chara\\\\Downloads\\\\HDFC_ChatBot-main\\\\HDFC_ChatBot-main\\\\HDFC_Faq.txt'}, page_content='Q: How do I reset my password?\\nA: An immediate email will be sent to you after the card is issued to you for setting up your password. For resetting or changing the password you will have to login to www.timespoint.com and visit the settings tab. In case you forget the password of your account, you can try for Forget Password and a password reset mail will be sent to you.'),\n",
       " Document(id='e47ff7d0-e20d-4382-afd4-8e092d4a0795', metadata={'source': 'c:\\\\Users\\\\chara\\\\Downloads\\\\HDFC_ChatBot-main\\\\HDFC_ChatBot-main\\\\HDFC_Faq.txt'}, page_content='Q: How can I log in if I have forgotten my password?\\nA: In case you have forgotten your password you can re-generate it using our Instant IPIN facility online.')]"
      ]
     },
     "execution_count": 10,
     "metadata": {},
     "output_type": "execute_result"
    }
   ],
   "source": [
    "retriever.invoke(query)"
   ]
  }
 ],
 "metadata": {
  "kernelspec": {
   "display_name": "Python 3",
   "language": "python",
   "name": "python3"
  },
  "language_info": {
   "codemirror_mode": {
    "name": "ipython",
    "version": 3
   },
   "file_extension": ".py",
   "mimetype": "text/x-python",
   "name": "python",
   "nbconvert_exporter": "python",
   "pygments_lexer": "ipython3",
   "version": "3.12.7"
  }
 },
 "nbformat": 4,
 "nbformat_minor": 5
}
